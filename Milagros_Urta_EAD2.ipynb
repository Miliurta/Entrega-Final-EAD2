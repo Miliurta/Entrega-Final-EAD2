{
 "cells": [
  {
   "cell_type": "markdown",
   "metadata": {},
   "source": [
    "# **Cual es la forma mas barata de viajar?**\n",
    "\n",
    "## **Analizando Precios de Pasajes de Avion: Existe una forma para comprar siempre los pasajes mas baratos?**\n",
    "\n",
    "*Milagros Urta*\n",
    "\n",
    "Especialista de Análisis de Datos (EAD2)"
   ]
  },
  {
   "cell_type": "markdown",
   "metadata": {
    "tags": []
   },
   "source": [
    "# Indice\n",
    "\n",
    "3) Planeteamiento del problema  \n",
    "4) Objetivos  \n",
    "&nbsp;&nbsp;&nbsp;&nbsp; 4.1. Objetivo general  \n",
    "&nbsp;&nbsp;&nbsp;&nbsp; 4.2. Objetivos especificos  \n",
    "5) Hipotesis     \n",
    "6) Descripcion del Dataset  \n",
    "&nbsp;&nbsp;&nbsp;&nbsp; 6.1. Descrpcion de las variables  \n",
    "7) Analisis Exploratorio, Descriptivo y Visual de los datos  \n",
    "8) Contraste de hipotesis  \n",
    "9) Resultados  \n",
    "10) Conclusiones  "
   ]
  },
  {
   "cell_type": "markdown",
   "metadata": {
    "id": "7DU-I1XxBRWk",
    "tags": []
   },
   "source": [
    "# Planteamiento del problema\n",
    "\n",
    "Este analisis busca encontrar si existe una forma de optimizar la compra de pasajes de avion mediante la combinacion de aerolinea, horarios y escalas, logrando asi siempre encontrar la opcion mas economica.\n"
   ]
  },
  {
   "cell_type": "markdown",
   "metadata": {
    "id": "40N81LnDBZqK",
    "tags": []
   },
   "source": [
    "# Objetivos"
   ]
  },
  {
   "cell_type": "markdown",
   "metadata": {
    "id": "IR0uYofLBfHU"
   },
   "source": [
    "## Objetivos generales\n",
    "\n",
    "Determinar que variables influyen en el precio de un pasaje aereo y evaluar como estas se pueden combinar a nuestro favor"
   ]
  },
  {
   "cell_type": "markdown",
   "metadata": {},
   "source": [
    "## Objetivos específicos\n",
    "\n",
    "Evaluar si en igualdad de condiciones, una de las siguientes variables tiene una mayor incidencia en el precio de un pasaje aereo tanto de forma positiva o negativa.\n",
    "1. Antelacion de la compra\n",
    "2. Cantidad de escalas\n",
    "3. Aerolinea\n",
    "4. Hora de salida"
   ]
  },
  {
   "cell_type": "markdown",
   "metadata": {
    "id": "SYl7qJSECTwB",
    "tags": []
   },
   "source": [
    "# Hipótesis\n",
    "\n",
    "En general, uno asume que cuanto mas escalas tenga el vuelo, mas barato sera el pasaje. \n",
    "Tambien que hay aerolineas mas baratas que otras, y que cuanto antes compremos el pasaje, significara un menor precio.\n",
    "Buscaremos demostrar si estas situacion efectivamente se dan.\n",
    "\n",
    "1. Primer Contraste:  \n",
    "H0: Cuanto mas cerca de la fecha de viaje, mas caro el pasaje  \n",
    "H1: El precio es independiente de con cuanta antelacion se saca el pasaje\n",
    "\n",
    "2. Segundo Contraste:  \n",
    "H0: Mas escalas significan un precio menor  \n",
    "H1: El precio es independiente a las escalas\n",
    "\n",
    "3. Tercer Contraste:  \n",
    "H0: La arolinea influye en el precio  \n",
    "H1: Podemos conseguir un pasaje barato en cualquier aerolinea"
   ]
  },
  {
   "cell_type": "markdown",
   "metadata": {
    "id": "VB2n4zz8C4AU",
    "tags": []
   },
   "source": [
    "# Descripcion del Dataset\n",
    "\n",
    "[Link al dataset](https://github.com/Miliurta/Entrega-Final-EAD2/blob/main/dataset_vuelos.csv)\n"
   ]
  },
  {
   "cell_type": "markdown",
   "metadata": {
    "id": "jpqXKu773Zeq"
   },
   "source": [
    "## Descripción de las variables"
   ]
  },
  {
   "cell_type": "markdown",
   "metadata": {
    "id": "zMd6OMvTdKpf"
   },
   "source": [
    "**Descripción de las variables:**\n",
    "\n",
    "1) *Airline:* Variable categorica que incluye el nombre de la compania aerea.  \n",
    "2) *Flight:* Variable cateogira con informacion sobre el codigo de vuelo.  \n",
    "3) *Source City:* Variable categorica que indica la ciudad de partida del vuelo.  \n",
    "4) *Departure Time:* Variable categorica derivavada de los horarios de despegue los vuelos, la cual agrupa la hora de salida en diferentes momentos del dia.  \n",
    "5) *Stops:* Variable cateogria con la cantidad de escalas en el vuelo.  \n",
    "6) *Arrival Time:* Variable categorica derivavada de los horarios de aterrizaje los vuelos, la cual agrupa la hora de llegada en diferentes momentos del dia.  \n",
    "7) *Destination City:* Variable categorica que indica la ciudad de llegada del vuelo.  \n",
    "8) *Class:* Variable categoria que indica el tipo de pasaje (ej.: Economy, Business, etc).  \n",
    "9) *Duration:* Variable continua que indica la duracion del vuelo.  \n",
    "10) *Days Left:* Cantidad de dias antes a la salida del vuelo que se realiza la compra del pasaje.  \n",
    "11) *Price:* Precio del pasaje  "
   ]
  },
  {
   "cell_type": "markdown",
   "metadata": {
    "id": "2vZLKUQh55Ky"
   },
   "source": [
    "# Analisis Exploratorio, Descriptivo y Visual de los datos"
   ]
  },
  {
   "cell_type": "code",
   "execution_count": 32,
   "metadata": {},
   "outputs": [],
   "source": [
    "#Importo librerias necesarias para el analisis\n",
    "import pandas as pd\n",
    "import numpy as np\n",
    "import matplotlib.pyplot as plt\n",
    "import seaborn as sns\n"
   ]
  },
  {
   "cell_type": "code",
   "execution_count": 4,
   "metadata": {},
   "outputs": [
    {
     "name": "stdout",
     "output_type": "stream",
     "text": [
      "<class 'pandas.core.frame.DataFrame'>\n",
      "RangeIndex: 300153 entries, 0 to 300152\n",
      "Data columns (total 12 columns):\n",
      " #   Column            Non-Null Count   Dtype  \n",
      "---  ------            --------------   -----  \n",
      " 0   Unnamed: 0        300153 non-null  int64  \n",
      " 1   airline           300153 non-null  object \n",
      " 2   flight            300153 non-null  object \n",
      " 3   source_city       300153 non-null  object \n",
      " 4   departure_time    300153 non-null  object \n",
      " 5   stops             300153 non-null  object \n",
      " 6   arrival_time      300153 non-null  object \n",
      " 7   destination_city  300153 non-null  object \n",
      " 8   class             300153 non-null  object \n",
      " 9   duration          300153 non-null  float64\n",
      " 10  days_left         300153 non-null  int64  \n",
      " 11  price             300153 non-null  int64  \n",
      "dtypes: float64(1), int64(3), object(8)\n",
      "memory usage: 27.5+ MB\n"
     ]
    },
    {
     "data": {
      "text/html": [
       "<div>\n",
       "<style scoped>\n",
       "    .dataframe tbody tr th:only-of-type {\n",
       "        vertical-align: middle;\n",
       "    }\n",
       "\n",
       "    .dataframe tbody tr th {\n",
       "        vertical-align: top;\n",
       "    }\n",
       "\n",
       "    .dataframe thead th {\n",
       "        text-align: right;\n",
       "    }\n",
       "</style>\n",
       "<table border=\"1\" class=\"dataframe\">\n",
       "  <thead>\n",
       "    <tr style=\"text-align: right;\">\n",
       "      <th></th>\n",
       "      <th>Unnamed: 0</th>\n",
       "      <th>duration</th>\n",
       "      <th>days_left</th>\n",
       "      <th>price</th>\n",
       "    </tr>\n",
       "  </thead>\n",
       "  <tbody>\n",
       "    <tr>\n",
       "      <th>count</th>\n",
       "      <td>300153.000000</td>\n",
       "      <td>300153.000000</td>\n",
       "      <td>300153.000000</td>\n",
       "      <td>300153.000000</td>\n",
       "    </tr>\n",
       "    <tr>\n",
       "      <th>mean</th>\n",
       "      <td>150076.000000</td>\n",
       "      <td>12.221021</td>\n",
       "      <td>26.004751</td>\n",
       "      <td>20889.660523</td>\n",
       "    </tr>\n",
       "    <tr>\n",
       "      <th>std</th>\n",
       "      <td>86646.852011</td>\n",
       "      <td>7.191997</td>\n",
       "      <td>13.561004</td>\n",
       "      <td>22697.767366</td>\n",
       "    </tr>\n",
       "    <tr>\n",
       "      <th>min</th>\n",
       "      <td>0.000000</td>\n",
       "      <td>0.830000</td>\n",
       "      <td>1.000000</td>\n",
       "      <td>1105.000000</td>\n",
       "    </tr>\n",
       "    <tr>\n",
       "      <th>25%</th>\n",
       "      <td>75038.000000</td>\n",
       "      <td>6.830000</td>\n",
       "      <td>15.000000</td>\n",
       "      <td>4783.000000</td>\n",
       "    </tr>\n",
       "    <tr>\n",
       "      <th>50%</th>\n",
       "      <td>150076.000000</td>\n",
       "      <td>11.250000</td>\n",
       "      <td>26.000000</td>\n",
       "      <td>7425.000000</td>\n",
       "    </tr>\n",
       "    <tr>\n",
       "      <th>75%</th>\n",
       "      <td>225114.000000</td>\n",
       "      <td>16.170000</td>\n",
       "      <td>38.000000</td>\n",
       "      <td>42521.000000</td>\n",
       "    </tr>\n",
       "    <tr>\n",
       "      <th>max</th>\n",
       "      <td>300152.000000</td>\n",
       "      <td>49.830000</td>\n",
       "      <td>49.000000</td>\n",
       "      <td>123071.000000</td>\n",
       "    </tr>\n",
       "  </tbody>\n",
       "</table>\n",
       "</div>"
      ],
      "text/plain": [
       "          Unnamed: 0       duration      days_left          price\n",
       "count  300153.000000  300153.000000  300153.000000  300153.000000\n",
       "mean   150076.000000      12.221021      26.004751   20889.660523\n",
       "std     86646.852011       7.191997      13.561004   22697.767366\n",
       "min         0.000000       0.830000       1.000000    1105.000000\n",
       "25%     75038.000000       6.830000      15.000000    4783.000000\n",
       "50%    150076.000000      11.250000      26.000000    7425.000000\n",
       "75%    225114.000000      16.170000      38.000000   42521.000000\n",
       "max    300152.000000      49.830000      49.000000  123071.000000"
      ]
     },
     "execution_count": 4,
     "metadata": {},
     "output_type": "execute_result"
    }
   ],
   "source": [
    "#Abro mi base de datos y realizo una primera exploracion de los datos\n",
    "data_set = pd.read_csv('dataset_vuelos.csv')\n",
    "\n",
    "data_set.info()\n",
    "data_set.describe()\n"
   ]
  },
  {
   "cell_type": "markdown",
   "metadata": {},
   "source": [
    "Para realizar el analisis, tomaremos como foco del analisis los vuelos que parten de la ciudad de Delhi con destino a la ciudad de Mumbai. \n"
   ]
  },
  {
   "cell_type": "code",
   "execution_count": 6,
   "metadata": {},
   "outputs": [
    {
     "name": "stdout",
     "output_type": "stream",
     "text": [
      "<class 'pandas.core.frame.DataFrame'>\n",
      "Int64Index: 15289 entries, 0 to 211972\n",
      "Data columns (total 12 columns):\n",
      " #   Column            Non-Null Count  Dtype  \n",
      "---  ------            --------------  -----  \n",
      " 0   Unnamed: 0        15289 non-null  int64  \n",
      " 1   airline           15289 non-null  object \n",
      " 2   flight            15289 non-null  object \n",
      " 3   source_city       15289 non-null  object \n",
      " 4   departure_time    15289 non-null  object \n",
      " 5   stops             15289 non-null  object \n",
      " 6   arrival_time      15289 non-null  object \n",
      " 7   destination_city  15289 non-null  object \n",
      " 8   class             15289 non-null  object \n",
      " 9   duration          15289 non-null  float64\n",
      " 10  days_left         15289 non-null  int64  \n",
      " 11  price             15289 non-null  int64  \n",
      "dtypes: float64(1), int64(3), object(8)\n",
      "memory usage: 1.5+ MB\n"
     ]
    }
   ],
   "source": [
    "#No tenemos valores nulos y las columnas ya tienen sus titulos en formato snake.\n",
    "#Para poder tomar casos comparables, nos quedaremos unicamente con los vuelos que partes de la ciudad de Delhi\n",
    "#con destino a Mumbai\n",
    "df = data_set.query('source_city == \"Delhi\" & destination_city == \"Mumbai\"')\n",
    "df.info()\n"
   ]
  },
  {
   "cell_type": "code",
   "execution_count": 8,
   "metadata": {},
   "outputs": [
    {
     "data": {
      "text/html": [
       "<div>\n",
       "<style scoped>\n",
       "    .dataframe tbody tr th:only-of-type {\n",
       "        vertical-align: middle;\n",
       "    }\n",
       "\n",
       "    .dataframe tbody tr th {\n",
       "        vertical-align: top;\n",
       "    }\n",
       "\n",
       "    .dataframe thead th {\n",
       "        text-align: right;\n",
       "    }\n",
       "</style>\n",
       "<table border=\"1\" class=\"dataframe\">\n",
       "  <thead>\n",
       "    <tr style=\"text-align: right;\">\n",
       "      <th></th>\n",
       "      <th>Index</th>\n",
       "      <th>duration</th>\n",
       "      <th>days_left</th>\n",
       "      <th>price</th>\n",
       "    </tr>\n",
       "  </thead>\n",
       "  <tbody>\n",
       "    <tr>\n",
       "      <th>count</th>\n",
       "      <td>15289.000000</td>\n",
       "      <td>15289.000000</td>\n",
       "      <td>15289.000000</td>\n",
       "      <td>15289.000000</td>\n",
       "    </tr>\n",
       "    <tr>\n",
       "      <th>mean</th>\n",
       "      <td>75915.436196</td>\n",
       "      <td>10.367774</td>\n",
       "      <td>25.828373</td>\n",
       "      <td>19355.829812</td>\n",
       "    </tr>\n",
       "    <tr>\n",
       "      <th>std</th>\n",
       "      <td>97306.188877</td>\n",
       "      <td>7.518482</td>\n",
       "      <td>13.675568</td>\n",
       "      <td>19777.253580</td>\n",
       "    </tr>\n",
       "    <tr>\n",
       "      <th>min</th>\n",
       "      <td>0.000000</td>\n",
       "      <td>2.000000</td>\n",
       "      <td>1.000000</td>\n",
       "      <td>2281.000000</td>\n",
       "    </tr>\n",
       "    <tr>\n",
       "      <th>25%</th>\n",
       "      <td>3822.000000</td>\n",
       "      <td>3.830000</td>\n",
       "      <td>14.000000</td>\n",
       "      <td>4381.000000</td>\n",
       "    </tr>\n",
       "    <tr>\n",
       "      <th>50%</th>\n",
       "      <td>7644.000000</td>\n",
       "      <td>8.250000</td>\n",
       "      <td>26.000000</td>\n",
       "      <td>7262.000000</td>\n",
       "    </tr>\n",
       "    <tr>\n",
       "      <th>75%</th>\n",
       "      <td>208150.000000</td>\n",
       "      <td>15.170000</td>\n",
       "      <td>38.000000</td>\n",
       "      <td>36712.000000</td>\n",
       "    </tr>\n",
       "    <tr>\n",
       "      <th>max</th>\n",
       "      <td>211972.000000</td>\n",
       "      <td>30.080000</td>\n",
       "      <td>49.000000</td>\n",
       "      <td>95657.000000</td>\n",
       "    </tr>\n",
       "  </tbody>\n",
       "</table>\n",
       "</div>"
      ],
      "text/plain": [
       "               Index      duration     days_left         price\n",
       "count   15289.000000  15289.000000  15289.000000  15289.000000\n",
       "mean    75915.436196     10.367774     25.828373  19355.829812\n",
       "std     97306.188877      7.518482     13.675568  19777.253580\n",
       "min         0.000000      2.000000      1.000000   2281.000000\n",
       "25%      3822.000000      3.830000     14.000000   4381.000000\n",
       "50%      7644.000000      8.250000     26.000000   7262.000000\n",
       "75%    208150.000000     15.170000     38.000000  36712.000000\n",
       "max    211972.000000     30.080000     49.000000  95657.000000"
      ]
     },
     "execution_count": 8,
     "metadata": {},
     "output_type": "execute_result"
    }
   ],
   "source": [
    "df.describe()"
   ]
  },
  {
   "cell_type": "code",
   "execution_count": 9,
   "metadata": {},
   "outputs": [
    {
     "name": "stderr",
     "output_type": "stream",
     "text": [
      "/var/folders/jh/pvj1nr1j4g30nwk20nv2lp380000gn/T/ipykernel_64567/2727919746.py:2: SettingWithCopyWarning: \n",
      "A value is trying to be set on a copy of a slice from a DataFrame\n",
      "\n",
      "See the caveats in the documentation: https://pandas.pydata.org/pandas-docs/stable/user_guide/indexing.html#returning-a-view-versus-a-copy\n",
      "  df.rename(columns = {'Unnamed: 0':'Index'}, inplace = True)\n",
      "/var/folders/jh/pvj1nr1j4g30nwk20nv2lp380000gn/T/ipykernel_64567/2727919746.py:3: SettingWithCopyWarning: \n",
      "A value is trying to be set on a copy of a slice from a DataFrame\n",
      "\n",
      "See the caveats in the documentation: https://pandas.pydata.org/pandas-docs/stable/user_guide/indexing.html#returning-a-view-versus-a-copy\n",
      "  df.rename(columns = {'class':'seat_class'}, inplace = True)\n"
     ]
    }
   ],
   "source": [
    "#Renombramos la columna indice y class\n",
    "df.rename(columns = {'Unnamed: 0':'Index'}, inplace = True)\n",
    "df.rename(columns = {'class':'seat_class'}, inplace = True)"
   ]
  },
  {
   "cell_type": "markdown",
   "metadata": {},
   "source": [
    "Concentrandonos en este nuevo data set pasamos a tener una muestra con **15.289** observaciones de 11 variables, sin ningun valor nulo. "
   ]
  },
  {
   "cell_type": "markdown",
   "metadata": {},
   "source": [
    "# Contraste de hipotesis  "
   ]
  },
  {
   "cell_type": "markdown",
   "metadata": {},
   "source": [
    "**Incidencia de la anticipacion con la que compro el pasaje**"
   ]
  },
  {
   "cell_type": "code",
   "execution_count": 46,
   "metadata": {},
   "outputs": [
    {
     "data": {
      "text/plain": [
       "Text(0, 0.5, 'price')"
      ]
     },
     "execution_count": 46,
     "metadata": {},
     "output_type": "execute_result"
    },
    {
     "data": {
      "image/png": "[encoded data removed]",
      "text/plain": [
       "<Figure size 1440x720 with 1 Axes>"
      ]
     },
     "metadata": {
      "needs_background": "light"
     },
     "output_type": "display_data"
    }
   ],
   "source": [
    "#Creo scatter graph para ver la distribucion de los precios, discriminando entre pasajes economy y business\n",
    "\n",
    "df_economy = df.query('seat_class == \"Economy\"')\n",
    "df_business = df.query('seat_class == \"Business\"')\n",
    "\n",
    "plt.figure(figsize=(20,10))\n",
    "plt.scatter(df_economy['days_left'], df_economy['price'])\n",
    "plt.scatter(df_business['days_left'], df_business['price'])\n",
    "plt.title(\"Precio segun antelacion de compra\")\n",
    "plt.xlabel('days_left')\n",
    "plt.ylabel('price')\n"
   ]
  },
  {
   "cell_type": "markdown",
   "metadata": {},
   "source": [
    "En el grafico de dispersion, tenemos los valores de vuelos economy en azul y en naranja los vuelos business. \n",
    "\n",
    "Como se puede ver, la antelacion con la que se compra el pasaje no incide mayormente en los precios mas altos. Destacamos que los precios mas bajos dejan de estar disponibles cuanto mas cerca de la fecha de vuelo antes en el caso de economy que en business.\n"
   ]
  },
  {
   "cell_type": "code",
   "execution_count": 30,
   "metadata": {},
   "outputs": [
    {
     "data": {
      "text/plain": [
       "days_left\n",
       "1     5949\n",
       "2     5949\n",
       "3     5953\n",
       "4     5949\n",
       "5     5949\n",
       "6     5949\n",
       "7     5953\n",
       "8     5953\n",
       "9     5949\n",
       "10    5949\n",
       "11    5949\n",
       "12    5949\n",
       "13    5949\n",
       "14    5001\n",
       "15    2409\n",
       "16    2409\n",
       "17    2409\n",
       "18    2409\n",
       "19    2409\n",
       "20    2409\n",
       "21    2409\n",
       "22    2409\n",
       "23    2409\n",
       "24    2409\n",
       "25    2409\n",
       "26    2409\n",
       "27    2409\n",
       "28    2409\n",
       "29    2409\n",
       "30    2409\n",
       "31    2409\n",
       "32    2409\n",
       "33    2409\n",
       "34    2409\n",
       "35    2409\n",
       "36    2409\n",
       "37    2409\n",
       "38    2409\n",
       "39    2409\n",
       "40    2409\n",
       "41    2409\n",
       "42    2409\n",
       "43    2409\n",
       "44    2409\n",
       "45    2409\n",
       "46    2381\n",
       "47    2281\n",
       "48    2409\n",
       "49    2409\n",
       "Name: price, dtype: int64"
      ]
     },
     "execution_count": 30,
     "metadata": {},
     "output_type": "execute_result"
    }
   ],
   "source": [
    "#Busco el precio minimo de pasaje por antelacion\n",
    "df.groupby([\"days_left\"])[\"price\"].min()"
   ]
  },
  {
   "cell_type": "markdown",
   "metadata": {},
   "source": [
    "Viendo los minimos, vemos que a partir de los 14 dias previos (dos semanas) el precio del pasaje se mas que duplica, pasando a estar un 107% mas caro que los dias anteriores. Y de ahi en adelante sigue estable hasta el dia previo al vuelo.\n",
    "\n",
    "A su vez vemos tambien vemos que el vuelo mas barato de la muestra fue comprado 47 dias antes."
   ]
  },
  {
   "cell_type": "code",
   "execution_count": 19,
   "metadata": {},
   "outputs": [
    {
     "data": {
      "text/plain": [
       "days_left\n",
       "1     25612\n",
       "2     25612\n",
       "3     25612\n",
       "4     22152\n",
       "5     22152\n",
       "6     22152\n",
       "7     22152\n",
       "8     22152\n",
       "9     22152\n",
       "10    22152\n",
       "11    22152\n",
       "12    22152\n",
       "13    22152\n",
       "14    22152\n",
       "15    22152\n",
       "16    22152\n",
       "17    22152\n",
       "18    22152\n",
       "19    22152\n",
       "20    22152\n",
       "21    22152\n",
       "22    22152\n",
       "23    22152\n",
       "24    22152\n",
       "25    22152\n",
       "26    22152\n",
       "27    22152\n",
       "28    22152\n",
       "29    22152\n",
       "30    22152\n",
       "31    22152\n",
       "32    22152\n",
       "33    22152\n",
       "34    22152\n",
       "35    22152\n",
       "36    22152\n",
       "37    22152\n",
       "38    22152\n",
       "39    22152\n",
       "40    22152\n",
       "41    22152\n",
       "42    22152\n",
       "43    22152\n",
       "44    22152\n",
       "45    22152\n",
       "46    22152\n",
       "47    22152\n",
       "48    22152\n",
       "49    22152\n",
       "Name: price, dtype: int64"
      ]
     },
     "execution_count": 19,
     "metadata": {},
     "output_type": "execute_result"
    }
   ],
   "source": [
    "#Busco el precio minimo de pasaje por antelacion - solo pasajes business\n",
    "df_business.groupby([\"days_left\"])[\"price\"].min()"
   ]
  },
  {
   "cell_type": "markdown",
   "metadata": {},
   "source": [
    "Mirando unicamente los pasajes en business, el cambio en el precio minimo se solamente 3 dias antes del vuelo, aumentando un 15,6%.\n",
    "\n",
    "**Incidencia de la cantidad de escalas**"
   ]
  },
  {
   "cell_type": "code",
   "execution_count": 49,
   "metadata": {},
   "outputs": [
    {
     "data": {
      "text/plain": [
       "stops\n",
       "one            2381\n",
       "two_or_more    2568\n",
       "zero           2281\n",
       "Name: price, dtype: int64"
      ]
     },
     "execution_count": 49,
     "metadata": {},
     "output_type": "execute_result"
    },
    {
     "data": {
      "image/png": "[encoded data removed]",
      "text/plain": [
       "<Figure size 720x720 with 1 Axes>"
      ]
     },
     "metadata": {
      "needs_background": "light"
     },
     "output_type": "display_data"
    }
   ],
   "source": [
    "#Creo scatter graphs para ver la distribucion de los precios\n",
    "plt.figure(figsize=(10,10))\n",
    "plt.scatter(df_economy['stops'], df_economy['price'])\n",
    "plt.scatter(df_business['stops'], df_business['price'])\n",
    "plt.title(\"Precio segun cantidad de escalas\")\n",
    "plt.xlabel('stops')\n",
    "plt.ylabel('price')\n",
    "\n",
    "#Busco el precio minimo de pasaje por cantidad de escalas\n",
    "df.groupby([\"stops\"])[\"price\"].min()"
   ]
  },
  {
   "cell_type": "markdown",
   "metadata": {},
   "source": [
    "Por otra parte, con el grafico que tenemos arriba, que mantiene el mismo codigo de colores, queda en evidencia que la cantidad de escalas no tiene una gran incidencia en el precio del vuelo. Inclusive en el caso de business tenemos pasajes mas caros con una escala que con dos. \n",
    "\n",
    "Considerando el caso de economy, se da hasta el caso inverso a lo esperado, siendo el precio mas bajo de los vuelos sin escalas 2.281 mientras que el minimo con dos o mas escalas es 2.568, un 12,6% mas caro que el anterior.\n",
    "\n",
    "**Influencia de la aerolinea**"
   ]
  },
  {
   "cell_type": "code",
   "execution_count": 25,
   "metadata": {},
   "outputs": [
    {
     "data": {
      "text/plain": [
       "<AxesSubplot:xlabel='airline', ylabel='price'>"
      ]
     },
     "execution_count": 25,
     "metadata": {},
     "output_type": "execute_result"
    },
    {
     "data": {
      "image/png": "[encoded data removed]",
      "text/plain": [
       "<Figure size 936x576 with 1 Axes>"
      ]
     },
     "metadata": {
      "needs_background": "light"
     },
     "output_type": "display_data"
    }
   ],
   "source": [
    "#Grafica boxplot por aerolinea - pasajes business\n",
    "plt.figure(figsize=(13,8))\n",
    "sns.boxplot(x='airline',y='price',data=df_economy.sort_values('price',ascending=False))"
   ]
  },
  {
   "cell_type": "code",
   "execution_count": 20,
   "metadata": {},
   "outputs": [
    {
     "data": {
      "text/plain": [
       "<AxesSubplot:xlabel='airline', ylabel='price'>"
      ]
     },
     "execution_count": 20,
     "metadata": {},
     "output_type": "execute_result"
    },
    {
     "data": {
      "image/png": "[encoded data removed]",
      "text/plain": [
       "<Figure size 432x288 with 1 Axes>"
      ]
     },
     "metadata": {
      "needs_background": "light"
     },
     "output_type": "display_data"
    }
   ],
   "source": [
    "#Grafica boxplot por aerolinea - pasajes business\n",
    "sns.boxplot(x='airline',y='price',data=df_business.sort_values('price',ascending=False))"
   ]
  },
  {
   "cell_type": "markdown",
   "metadata": {},
   "source": [
    "Arriba vemos como se distribuyen los precios de los pasajes segun la aerolinea, en la primera grafica el caso de economy y el segundo business. De nuevo se da que no vemos grandes diferencias, aunque si se puede ver que Air India y Vistara tienen precio mas altos en promedio que las demas aerolineas. \n",
    "\n",
    "A su vez, en la tabla que se encuentra debajo podemos ver como el minimo precio por pasaje, no es muy dispar entre aerolineas, variando entre 2.281 a 2.476, un 8,5% de diferencia entre el minimo y el maximo.\n",
    "Se cumple que el vuelo mas barato es de una aerolina \"low cost\"."
   ]
  },
  {
   "cell_type": "code",
   "execution_count": 13,
   "metadata": {},
   "outputs": [
    {
     "data": {
      "text/plain": [
       "airline\n",
       "AirAsia      2409\n",
       "Air_India    2476\n",
       "GO_FIRST     2410\n",
       "Indigo       2381\n",
       "SpiceJet     2281\n",
       "Vistara      2476\n",
       "Name: price, dtype: int64"
      ]
     },
     "execution_count": 13,
     "metadata": {},
     "output_type": "execute_result"
    }
   ],
   "source": [
    "#Busco el precio minimo de pasaje por aerolinea\n",
    "df.groupby([\"airline\"])[\"price\"].min()"
   ]
  },
  {
   "cell_type": "markdown",
   "metadata": {},
   "source": [
    "**Precio segun hora de salida**\n",
    "\n",
    "Por ultimo evaluamos como incide la hora de salida del vuelo en el precio del pasaje."
   ]
  },
  {
   "cell_type": "code",
   "execution_count": 52,
   "metadata": {},
   "outputs": [
    {
     "data": {
      "text/plain": [
       "departure_time\n",
       "Afternoon        2381\n",
       "Early_Morning    2281\n",
       "Evening          2281\n",
       "Late_Night       2381\n",
       "Morning          2281\n",
       "Night            2381\n",
       "Name: price, dtype: int64"
      ]
     },
     "execution_count": 52,
     "metadata": {},
     "output_type": "execute_result"
    },
    {
     "data": {
      "image/png": "[encoded data removed]",
      "text/plain": [
       "<Figure size 720x720 with 1 Axes>"
      ]
     },
     "metadata": {
      "needs_background": "light"
     },
     "output_type": "display_data"
    }
   ],
   "source": [
    "#Creo grafico para ver como influye la hora de salida al precio del pasaje\n",
    "plt.figure(figsize=(10,10))\n",
    "plt.scatter(df_economy['departure_time'], df_economy['price'])\n",
    "plt.scatter(df_business['departure_time'], df_business['price'])\n",
    "plt.title(\"Precio segun hora de salida\")\n",
    "plt.xlabel('departure_time')\n",
    "plt.ylabel('price')\n",
    "\n",
    "#Precio minimo por hora de salida\n",
    "df_economy.groupby([\"departure_time\"])[\"price\"].min()"
   ]
  },
  {
   "cell_type": "markdown",
   "metadata": {},
   "source": [
    "Nuevamente, no hay un salto significativo en el precio entre una hora y otra. Encontramos que los vuelos que salieron temprano en la manana y al anochecer tuvieron los precios minimos, siendo un 4% mas baratos."
   ]
  },
  {
   "cell_type": "markdown",
   "metadata": {},
   "source": [
    "# Resultados \n",
    "\n",
    "Respondiendo a la pregunta de que variables podemos usar a nuestro favor asegurar la compra de una pasaje mas barato, en primer lugar podemos descartar que una mayor cantidad de escalas nos asegura un precio mas bajo. El vuelo mas barato es sin escalas, mientras que el vuelo mas barato con dos o mas escalas es un 12,6% mas caro. \n",
    "\n",
    "En cuanto a la aerolinea, si bien hay aerolineas que en el grueso son mas caras, a la hora de buscar el minimo, hay como maximo un 8,5% de diferencia en el precio entre ellas, siendo SpiceJet la opcion mas barata. \n",
    "\n",
    "Por otra parte, si es importante la antelacion con la que se compra el pasaje, siendo imprecindible comprarlo al menos dos semanas antes en el caso de vuelos de economy, dado que el precio incrementa en un 107% llegados el dia 14 previo al vuelo. En el caso de business se puede encontrar el mismo valor minimo hasta 4 dias antes y luego vemos un incremento en el precio de 15,6%.\n",
    "\n",
    "Por ultimo, la hora de salida que permite la opcion mas barata, si bien no es una gran diferencia, es saliendo temprano en la manana o al anochecer."
   ]
  },
  {
   "cell_type": "markdown",
   "metadata": {},
   "source": [
    "# Conclusiones "
   ]
  },
  {
   "cell_type": "markdown",
   "metadata": {},
   "source": [
    "Si buscamos comprar el pasaje mas barato, de acuerdo al caso analizado, deberiamos cumplir con las siguientes reglas:  \n",
    "\n",
    "1. Idealmente comprar el pasaje 47 dias antes de la fecha de viaje, y nunca con menos de 2 semanas de antelacion.  \n",
    "2. Buscar un vuelo que salga temprano en la manana o al atardecer.\n",
    "3. Volar en una aerolinea low-cost\n",
    "\n",
    "A la hora de considerar las escalas, aprendimos que optar por hacer mas escalas no va a resultar en un vuelo mas barato.\n"
   ]
  },
  {
   "cell_type": "code",
   "execution_count": null,
   "metadata": {},
   "outputs": [],
   "source": []
  }
 ],
 "metadata": {
  "colab": {
   "name": "Ejemplo_proyecto_final.ipynb",
   "provenance": [],
   "toc_visible": true
  },
  "kernelspec": {
   "display_name": "Python 3 (ipykernel)",
   "language": "python",
   "name": "python3"
  },
  "language_info": {
   "codemirror_mode": {
    "name": "ipython",
    "version": 3
   },
   "file_extension": ".py",
   "mimetype": "text/x-python",
   "name": "python",
   "nbconvert_exporter": "python",
   "pygments_lexer": "ipython3",
   "version": "3.9.5"
  }
 },
 "nbformat": 4,
 "nbformat_minor": 4
}
